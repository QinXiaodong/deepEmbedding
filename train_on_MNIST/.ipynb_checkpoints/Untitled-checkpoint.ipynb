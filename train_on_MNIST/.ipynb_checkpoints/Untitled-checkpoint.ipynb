{
 "cells": [
  {
   "cell_type": "code",
   "execution_count": 7,
   "metadata": {},
   "outputs": [],
   "source": [
    "import os  \n",
    "\n",
    "def file_name(file_dir,suffix=None):   \n",
    "    L=[]   \n",
    "    for dirpath, dirnames, filenames in os.walk(file_dir):  \n",
    "        for file in filenames :  \n",
    "            if suffix !=None and os.path.splitext(file)[1] != suffix:\n",
    "                continue\n",
    "            L.append(os.path.join(dirpath, file))  \n",
    "    return L "
   ]
  },
  {
   "cell_type": "code",
   "execution_count": 15,
   "metadata": {},
   "outputs": [
    {
     "data": {
      "text/plain": [
       "['checkpoint\\\\classification_ckpt.t7',\n",
       " 'checkpoint\\\\contrastive_ckpt.t7',\n",
       " 'checkpoint\\\\Fisher_ckpt.t7',\n",
       " 'checkpoint\\\\triplet_ckpt.t7',\n",
       " 'checkpoint\\\\triplet_HardestNegativeTripletSelector_ckpt.t7']"
      ]
     },
     "execution_count": 15,
     "metadata": {},
     "output_type": "execute_result"
    }
   ],
   "source": [
    "file_name('checkpoint','.t7')"
   ]
  },
  {
   "cell_type": "code",
   "execution_count": 27,
   "metadata": {},
   "outputs": [
    {
     "name": "stdout",
     "output_type": "stream",
     "text": [
      "==> Preparing data..\n",
      "==> Building model..\n",
      "==> Resuming from checkpoint checkpoint\\Binomial_ckpt.t7\n"
     ]
    },
    {
     "ename": "NameError",
     "evalue": "name 'np' is not defined",
     "output_type": "error",
     "traceback": [
      "\u001b[1;31m---------------------------------------------------------------------------\u001b[0m",
      "\u001b[1;31mNameError\u001b[0m                                 Traceback (most recent call last)",
      "\u001b[1;32m<ipython-input-27-bb54fdefeac4>\u001b[0m in \u001b[0;36m<module>\u001b[1;34m\u001b[0m\n\u001b[0;32m     55\u001b[0m         \u001b[0mnet\u001b[0m\u001b[1;33m.\u001b[0m\u001b[0meval\u001b[0m\u001b[1;33m(\u001b[0m\u001b[1;33m)\u001b[0m\u001b[1;33m\u001b[0m\u001b[1;33m\u001b[0m\u001b[0m\n\u001b[0;32m     56\u001b[0m         \u001b[1;32mwith\u001b[0m \u001b[0mtorch\u001b[0m\u001b[1;33m.\u001b[0m\u001b[0mno_grad\u001b[0m\u001b[1;33m(\u001b[0m\u001b[1;33m)\u001b[0m\u001b[1;33m:\u001b[0m\u001b[1;33m\u001b[0m\u001b[1;33m\u001b[0m\u001b[0m\n\u001b[1;32m---> 57\u001b[1;33m             \u001b[0mall_embeddings\u001b[0m\u001b[1;33m=\u001b[0m\u001b[0mnp\u001b[0m\u001b[1;33m.\u001b[0m\u001b[0mzeros\u001b[0m\u001b[1;33m(\u001b[0m\u001b[1;33m(\u001b[0m\u001b[0mlen\u001b[0m\u001b[1;33m(\u001b[0m\u001b[0mtest_loader\u001b[0m\u001b[1;33m.\u001b[0m\u001b[0mdataset\u001b[0m\u001b[1;33m)\u001b[0m\u001b[1;33m,\u001b[0m\u001b[1;36m84\u001b[0m\u001b[1;33m)\u001b[0m\u001b[1;33m)\u001b[0m\u001b[1;33m\u001b[0m\u001b[1;33m\u001b[0m\u001b[0m\n\u001b[0m\u001b[0;32m     58\u001b[0m             \u001b[0mall_targets\u001b[0m\u001b[1;33m=\u001b[0m\u001b[0mnp\u001b[0m\u001b[1;33m.\u001b[0m\u001b[0mzeros\u001b[0m\u001b[1;33m(\u001b[0m\u001b[0mlen\u001b[0m\u001b[1;33m(\u001b[0m\u001b[0mtest_loader\u001b[0m\u001b[1;33m.\u001b[0m\u001b[0mdataset\u001b[0m\u001b[1;33m)\u001b[0m\u001b[1;33m)\u001b[0m\u001b[1;33m\u001b[0m\u001b[1;33m\u001b[0m\u001b[0m\n\u001b[0;32m     59\u001b[0m             \u001b[1;32mfor\u001b[0m \u001b[0mbatch_idx\u001b[0m\u001b[1;33m,\u001b[0m \u001b[1;33m(\u001b[0m\u001b[0minputs\u001b[0m\u001b[1;33m,\u001b[0m \u001b[0mtargets\u001b[0m\u001b[1;33m)\u001b[0m \u001b[1;32min\u001b[0m \u001b[0menumerate\u001b[0m\u001b[1;33m(\u001b[0m\u001b[0mtest_loader\u001b[0m\u001b[1;33m)\u001b[0m\u001b[1;33m:\u001b[0m\u001b[1;33m\u001b[0m\u001b[1;33m\u001b[0m\u001b[0m\n",
      "\u001b[1;31mNameError\u001b[0m: name 'np' is not defined"
     ]
    }
   ],
   "source": [
    "import os\n",
    "import torch\n",
    "import torch.backends.cudnn as cudnn\n",
    "from torchvision_qinxiao import datasets\n",
    "import torchvision.transforms as transforms\n",
    "from models.lenet import LeNet\n",
    "import numpy as np\n",
    "def KNNEvaluation(embeddings,targets):\n",
    "    dist_matrix=distance_matrix(embeddings,embeddings)\n",
    "    sorted_dist=np.argsort(dist_matrix)\n",
    "    predicted_indexes=sorted_dist[:,1]#除了自身以外最近的嵌入的索引\n",
    "    predicted_targets=targets[predicted_indexes]\n",
    "    acc=1.0*np.equal(predicted_targets,targets).sum()/embeddings.shape[0]\n",
    "    return acc\n",
    "\n",
    "def evaluate(embeddings,targets):\n",
    "    knn_score=KNNEvaluation(embeddings,targets)\n",
    "    return knn_score\n",
    "\n",
    "if __name__ == '__main__':\n",
    "    # Data\n",
    "    print('==> Preparing data..')\n",
    "    bs=1024\n",
    "    kwargs = {'num_workers': 1, 'pin_memory': True} if torch.cuda.is_available() else {}\n",
    "    train_loader = torch.utils.data.DataLoader(\n",
    "        datasets.MNIST('../Embedding_data', train=True, download=True,\n",
    "                    transform=transforms.Compose([\n",
    "                        transforms.ToTensor(),\n",
    "                        transforms.Normalize((0.1307,), (0.3081,))\n",
    "                    ])),\n",
    "        batch_size=bs, shuffle=True, **kwargs)\n",
    "    test_loader = torch.utils.data.DataLoader(\n",
    "        datasets.MNIST('../Embedding_data', train=False, download=True,\n",
    "                    transform=transforms.Compose([\n",
    "                        transforms.ToTensor(),\n",
    "                        transforms.Normalize((0.1307,), (0.3081,))\n",
    "                    ])),\n",
    "        batch_size=bs, shuffle=True, **kwargs)\n",
    "\n",
    "    # Model\n",
    "    print('==> Building model..')\n",
    "    device = 'cuda' if torch.cuda.is_available() else 'cpu'\n",
    "    net = LeNet(5)\n",
    "    net = net.to(device)\n",
    "    if device == 'cuda':\n",
    "        net = torch.nn.DataParallel(net)\n",
    "        cudnn.benchmark = True\n",
    "\n",
    "    fileList=file_name('checkpoint','.t7')\n",
    "    for ckpt_file in fileList:\n",
    "        print('==> Resuming from checkpoint '+ckpt_file)\n",
    "        assert os.path.isdir('checkpoint'), 'Error: no checkpoint directory found!'\n",
    "        checkpoint = torch.load(ckpt_file)\n",
    "        net.load_state_dict(checkpoint['net'])\n",
    "        best_acc = checkpoint['acc']\n",
    "        net.eval()\n",
    "        with torch.no_grad():\n",
    "            all_embeddings=np.zeros((len(test_loader.dataset),84))\n",
    "            all_targets=np.zeros(len(test_loader.dataset))\n",
    "            for batch_idx, (inputs, targets) in enumerate(test_loader):\n",
    "                inputs, targets = inputs.to(device), targets.to(device)\n",
    "                _,embeddings = net(inputs)\n",
    "                all_embeddings[batch_idx*args.batch_size:batch_idx*args.batch_size+embeddings.shape[0],:]=embeddings.cpu().numpy()\n",
    "                all_targets[batch_idx*args.batch_size:batch_idx*args.batch_size+targets.shape[0]]=targets.cpu().numpy()\n",
    "                progress_bar(batch_idx, len(test_loader))\n",
    "        e1=evaluate(all_embeddings,all_targets)\n",
    "        print('e1: %.6f'%e1)\n",
    "        "
   ]
  }
 ],
 "metadata": {
  "kernelspec": {
   "display_name": "Python 3",
   "language": "python",
   "name": "python3"
  },
  "language_info": {
   "codemirror_mode": {
    "name": "ipython",
    "version": 3
   },
   "file_extension": ".py",
   "mimetype": "text/x-python",
   "name": "python",
   "nbconvert_exporter": "python",
   "pygments_lexer": "ipython3",
   "version": "3.6.8"
  }
 },
 "nbformat": 4,
 "nbformat_minor": 2
}
