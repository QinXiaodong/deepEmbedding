{
 "cells": [
  {
   "cell_type": "code",
   "execution_count": 2,
   "metadata": {},
   "outputs": [],
   "source": [
    "import tensorflow as tf\n",
    "from tensorflow.contrib.losses.python.metric_learning.metric_loss_ops import pairwise_distance"
   ]
  },
  {
   "cell_type": "code",
   "execution_count": 8,
   "metadata": {},
   "outputs": [],
   "source": [
    "data_size = 32\n",
    "input_dim = 3\n",
    "output_dim = 2\n",
    "num_class = 4\n",
    "x = tf.random.normal((data_size,input_dim))\n",
    "y_ = 8*list(range(num_class))\n",
    "targets = tf.convert_to_tensor(y_)"
   ]
  },
  {
   "cell_type": "code",
   "execution_count": 12,
   "metadata": {},
   "outputs": [
    {
     "data": {
      "text/plain": [
       "array([[-1.1270827 , -0.725593  , -0.34690222],\n",
       "       [ 0.28178513,  0.45674577,  2.0411606 ],\n",
       "       [ 1.2154179 ,  0.14189994, -2.670026  ],\n",
       "       [ 0.70642304, -0.00769803, -0.8474639 ],\n",
       "       [ 0.89888465, -0.13177611, -1.2516416 ],\n",
       "       [-1.2670491 , -0.5573973 , -0.11814583],\n",
       "       [-0.9562287 , -0.3078877 , -2.2464993 ],\n",
       "       [ 0.6981849 , -0.15564477,  0.9964945 ],\n",
       "       [-0.5819442 ,  0.6383627 ,  0.15348384],\n",
       "       [ 0.80205494, -0.4372235 ,  0.21274656],\n",
       "       [-0.45393866, -0.9244106 , -1.3156794 ],\n",
       "       [ 0.10284877,  1.1832486 ,  0.05495634],\n",
       "       [ 1.263614  ,  0.95658267,  0.70701236],\n",
       "       [-0.16087732,  1.012355  ,  0.31901708],\n",
       "       [ 0.73518056, -0.8514376 , -1.1671789 ],\n",
       "       [-1.7243102 , -1.6181935 , -0.33250546],\n",
       "       [ 1.0470356 , -0.28304663, -0.41981512],\n",
       "       [ 0.01854724, -0.0299547 , -0.47024885],\n",
       "       [-0.8447945 , -1.0083635 ,  0.20486952],\n",
       "       [-1.0159105 ,  1.9276029 ,  1.3247596 ],\n",
       "       [ 0.34921476, -1.2117742 ,  0.53602767],\n",
       "       [ 0.4224168 , -1.5097038 ,  1.0087554 ],\n",
       "       [-1.3416553 , -0.5438399 ,  0.30201477],\n",
       "       [ 0.63392514, -1.1511157 , -2.0075524 ],\n",
       "       [ 0.2791555 ,  0.34411702, -2.106531  ],\n",
       "       [ 0.19623998, -0.9418192 , -0.48201114],\n",
       "       [ 0.5148431 ,  1.2431151 ,  0.9134401 ],\n",
       "       [-0.8630898 , -0.07976045, -0.28468937],\n",
       "       [ 0.9064318 ,  1.2174373 , -0.91816723],\n",
       "       [ 0.6336038 ,  0.3111267 , -0.16302702],\n",
       "       [-0.42677933,  0.71180826,  0.31386462],\n",
       "       [-0.35949305,  1.1025424 ,  0.56148046]], dtype=float32)"
      ]
     },
     "execution_count": 12,
     "metadata": {},
     "output_type": "execute_result"
    }
   ],
   "source": [
    "x.eval(session=tf.Session())"
   ]
  },
  {
   "cell_type": "code",
   "execution_count": 21,
   "metadata": {},
   "outputs": [
    {
     "data": {
      "text/plain": [
       "array([[0.3324203 , 0.68558335, 0.15228677],\n",
       "       [0.75287515, 0.7687714 , 0.6182537 ],\n",
       "       [0.27421302, 0.21996629, 0.9692856 ],\n",
       "       [0.4817635 , 0.5265419 , 0.8199338 ],\n",
       "       [0.95669675, 0.6536439 , 0.7072519 ],\n",
       "       [0.13427421, 0.05725547, 0.32009283],\n",
       "       [0.5711257 , 0.7083844 , 0.49613234],\n",
       "       [0.15552741, 0.7137213 , 0.92263484],\n",
       "       [0.8203503 , 0.13003069, 0.81271714],\n",
       "       [0.9780575 , 0.24323066, 0.83346343],\n",
       "       [0.5220975 , 0.4623779 , 0.9860648 ],\n",
       "       [0.4375606 , 0.855193  , 0.64840853],\n",
       "       [0.89222306, 0.06566145, 0.11655815],\n",
       "       [0.7064045 , 0.5948679 , 0.12268396],\n",
       "       [0.04687909, 0.9482258 , 0.67971927],\n",
       "       [0.15982309, 0.9734723 , 0.6525185 ],\n",
       "       [0.32872286, 0.8011196 , 0.23515566],\n",
       "       [0.76239556, 0.4998424 , 0.22418725],\n",
       "       [0.81363416, 0.8485694 , 0.2725195 ],\n",
       "       [0.22374408, 0.8923387 , 0.68313473],\n",
       "       [0.57579464, 0.48649254, 0.08187796],\n",
       "       [0.77164483, 0.80077696, 0.06365427],\n",
       "       [0.40580314, 0.8306487 , 0.75081146],\n",
       "       [0.54200655, 0.47461748, 0.9838459 ],\n",
       "       [0.7327953 , 0.3135232 , 0.9274332 ],\n",
       "       [0.60321903, 0.62885696, 0.31267184],\n",
       "       [0.29922557, 0.68755835, 0.5736259 ],\n",
       "       [0.49984342, 0.76245344, 0.12098235],\n",
       "       [0.03248938, 0.06741295, 0.08659148],\n",
       "       [0.09533846, 0.42999092, 0.80320036],\n",
       "       [0.31256178, 0.82895386, 0.8314939 ],\n",
       "       [0.74910146, 0.11109813, 0.44003218]], dtype=float32)"
      ]
     },
     "execution_count": 21,
     "metadata": {},
     "output_type": "execute_result"
    }
   ],
   "source": [
    "import numpy as np\n",
    "inputs=np.load('inputs.npy')\n",
    "tf.convert_to_tensor(inputs,np.float32).eval(session=tf.Session())"
   ]
  },
  {
   "cell_type": "code",
   "execution_count": 16,
   "metadata": {},
   "outputs": [
    {
     "data": {
      "text/plain": [
       "array([0, 1, 2, 3, 0, 1, 2, 3, 0, 1, 2, 3, 0, 1, 2, 3, 0, 1, 2, 3, 0, 1,\n",
       "       2, 3, 0, 1, 2, 3, 0, 1, 2, 3])"
      ]
     },
     "execution_count": 16,
     "metadata": {},
     "output_type": "execute_result"
    }
   ],
   "source": [
    "np.load('targets.npy')"
   ]
  },
  {
   "cell_type": "code",
   "execution_count": 29,
   "metadata": {},
   "outputs": [
    {
     "ename": "TypeError",
     "evalue": "Value passed to parameter 'indices' has DataType float64 not in list of allowed values: uint8, int32, int64",
     "output_type": "error",
     "traceback": [
      "\u001b[1;31m---------------------------------------------------------------------------\u001b[0m",
      "\u001b[1;31mTypeError\u001b[0m                                 Traceback (most recent call last)",
      "\u001b[1;32m<ipython-input-29-6bfcaf5fa708>\u001b[0m in \u001b[0;36m<module>\u001b[1;34m\u001b[0m\n\u001b[0;32m      1\u001b[0m \u001b[0minputs\u001b[0m\u001b[1;33m=\u001b[0m\u001b[0mtf\u001b[0m\u001b[1;33m.\u001b[0m\u001b[0mconvert_to_tensor\u001b[0m\u001b[1;33m(\u001b[0m\u001b[0minputs\u001b[0m\u001b[1;33m)\u001b[0m\u001b[1;33m\u001b[0m\u001b[1;33m\u001b[0m\u001b[0m\n\u001b[1;32m----> 2\u001b[1;33m \u001b[0minputs\u001b[0m\u001b[1;33m=\u001b[0m\u001b[0mtf\u001b[0m\u001b[1;33m.\u001b[0m\u001b[0mone_hot\u001b[0m\u001b[1;33m(\u001b[0m\u001b[0minputs\u001b[0m\u001b[1;33m,\u001b[0m\u001b[0mdepth\u001b[0m\u001b[1;33m=\u001b[0m\u001b[1;36m4\u001b[0m\u001b[1;33m)\u001b[0m\u001b[1;33m\u001b[0m\u001b[1;33m\u001b[0m\u001b[0m\n\u001b[0m",
      "\u001b[1;32mc:\\users\\paoso\\appdata\\local\\programs\\python\\python36\\lib\\site-packages\\tensorflow\\python\\ops\\array_ops.py\u001b[0m in \u001b[0;36mone_hot\u001b[1;34m(indices, depth, on_value, off_value, axis, dtype, name)\u001b[0m\n\u001b[0;32m   3016\u001b[0m \u001b[1;33m\u001b[0m\u001b[0m\n\u001b[0;32m   3017\u001b[0m     return gen_array_ops.one_hot(indices, depth, on_value, off_value, axis,\n\u001b[1;32m-> 3018\u001b[1;33m                                  name)\n\u001b[0m\u001b[0;32m   3019\u001b[0m \u001b[1;33m\u001b[0m\u001b[0m\n\u001b[0;32m   3020\u001b[0m \u001b[1;33m\u001b[0m\u001b[0m\n",
      "\u001b[1;32mc:\\users\\paoso\\appdata\\local\\programs\\python\\python36\\lib\\site-packages\\tensorflow\\python\\ops\\gen_array_ops.py\u001b[0m in \u001b[0;36mone_hot\u001b[1;34m(indices, depth, on_value, off_value, axis, name)\u001b[0m\n\u001b[0;32m   6249\u001b[0m   _, _, _op = _op_def_lib._apply_op_helper(\n\u001b[0;32m   6250\u001b[0m         \u001b[1;34m\"OneHot\"\u001b[0m\u001b[1;33m,\u001b[0m \u001b[0mindices\u001b[0m\u001b[1;33m=\u001b[0m\u001b[0mindices\u001b[0m\u001b[1;33m,\u001b[0m \u001b[0mdepth\u001b[0m\u001b[1;33m=\u001b[0m\u001b[0mdepth\u001b[0m\u001b[1;33m,\u001b[0m \u001b[0mon_value\u001b[0m\u001b[1;33m=\u001b[0m\u001b[0mon_value\u001b[0m\u001b[1;33m,\u001b[0m\u001b[1;33m\u001b[0m\u001b[1;33m\u001b[0m\u001b[0m\n\u001b[1;32m-> 6251\u001b[1;33m                   off_value=off_value, axis=axis, name=name)\n\u001b[0m\u001b[0;32m   6252\u001b[0m   \u001b[0m_result\u001b[0m \u001b[1;33m=\u001b[0m \u001b[0m_op\u001b[0m\u001b[1;33m.\u001b[0m\u001b[0moutputs\u001b[0m\u001b[1;33m[\u001b[0m\u001b[1;33m:\u001b[0m\u001b[1;33m]\u001b[0m\u001b[1;33m\u001b[0m\u001b[1;33m\u001b[0m\u001b[0m\n\u001b[0;32m   6253\u001b[0m   \u001b[0m_inputs_flat\u001b[0m \u001b[1;33m=\u001b[0m \u001b[0m_op\u001b[0m\u001b[1;33m.\u001b[0m\u001b[0minputs\u001b[0m\u001b[1;33m\u001b[0m\u001b[1;33m\u001b[0m\u001b[0m\n",
      "\u001b[1;32mc:\\users\\paoso\\appdata\\local\\programs\\python\\python36\\lib\\site-packages\\tensorflow\\python\\framework\\op_def_library.py\u001b[0m in \u001b[0;36m_apply_op_helper\u001b[1;34m(self, op_type_name, name, **keywords)\u001b[0m\n\u001b[0;32m    608\u001b[0m               _SatisfiesTypeConstraint(base_type,\n\u001b[0;32m    609\u001b[0m                                        \u001b[0m_Attr\u001b[0m\u001b[1;33m(\u001b[0m\u001b[0mop_def\u001b[0m\u001b[1;33m,\u001b[0m \u001b[0minput_arg\u001b[0m\u001b[1;33m.\u001b[0m\u001b[0mtype_attr\u001b[0m\u001b[1;33m)\u001b[0m\u001b[1;33m,\u001b[0m\u001b[1;33m\u001b[0m\u001b[1;33m\u001b[0m\u001b[0m\n\u001b[1;32m--> 610\u001b[1;33m                                        param_name=input_name)\n\u001b[0m\u001b[0;32m    611\u001b[0m             \u001b[0mattrs\u001b[0m\u001b[1;33m[\u001b[0m\u001b[0minput_arg\u001b[0m\u001b[1;33m.\u001b[0m\u001b[0mtype_attr\u001b[0m\u001b[1;33m]\u001b[0m \u001b[1;33m=\u001b[0m \u001b[0mattr_value\u001b[0m\u001b[1;33m\u001b[0m\u001b[1;33m\u001b[0m\u001b[0m\n\u001b[0;32m    612\u001b[0m             \u001b[0minferred_from\u001b[0m\u001b[1;33m[\u001b[0m\u001b[0minput_arg\u001b[0m\u001b[1;33m.\u001b[0m\u001b[0mtype_attr\u001b[0m\u001b[1;33m]\u001b[0m \u001b[1;33m=\u001b[0m \u001b[0minput_name\u001b[0m\u001b[1;33m\u001b[0m\u001b[1;33m\u001b[0m\u001b[0m\n",
      "\u001b[1;32mc:\\users\\paoso\\appdata\\local\\programs\\python\\python36\\lib\\site-packages\\tensorflow\\python\\framework\\op_def_library.py\u001b[0m in \u001b[0;36m_SatisfiesTypeConstraint\u001b[1;34m(dtype, attr_def, param_name)\u001b[0m\n\u001b[0;32m     58\u001b[0m           \u001b[1;34m\"allowed values: %s\"\u001b[0m \u001b[1;33m%\u001b[0m\u001b[1;33m\u001b[0m\u001b[1;33m\u001b[0m\u001b[0m\n\u001b[0;32m     59\u001b[0m           (param_name, dtypes.as_dtype(dtype).name,\n\u001b[1;32m---> 60\u001b[1;33m            \", \".join(dtypes.as_dtype(x).name for x in allowed_list)))\n\u001b[0m\u001b[0;32m     61\u001b[0m \u001b[1;33m\u001b[0m\u001b[0m\n\u001b[0;32m     62\u001b[0m \u001b[1;33m\u001b[0m\u001b[0m\n",
      "\u001b[1;31mTypeError\u001b[0m: Value passed to parameter 'indices' has DataType float64 not in list of allowed values: uint8, int32, int64"
     ]
    }
   ],
   "source": [
    "inputs=tf.convert_to_tensor(inputs)\n",
    "inputs=tf.one_hot(inputs,depth=4)"
   ]
  },
  {
   "cell_type": "code",
   "execution_count": 30,
   "metadata": {},
   "outputs": [],
   "source": [
    "targets=np.load('targets.npy')\n",
    "targets=tf.convert_to_tensor(targets)\n",
    "targets=tf.one_hot(targets,depth=4)"
   ]
  },
  {
   "cell_type": "code",
   "execution_count": 32,
   "metadata": {},
   "outputs": [
    {
     "data": {
      "text/plain": [
       "(32, 4)"
      ]
     },
     "execution_count": 32,
     "metadata": {},
     "output_type": "execute_result"
    }
   ],
   "source": [
    "targets.eval(session=tf.Session()).shape"
   ]
  },
  {
   "cell_type": "code",
   "execution_count": 35,
   "metadata": {},
   "outputs": [],
   "source": [
    "inputs=np.load('inputs.npy')\n",
    "embeddings=tf.convert_to_tensor(inputs,np.float32)\n",
    "targets=np.load('targets.npy')\n",
    "targets=tf.convert_to_tensor(targets)\n",
    "labels=tf.one_hot(targets,depth=4)"
   ]
  },
  {
   "cell_type": "code",
   "execution_count": 37,
   "metadata": {},
   "outputs": [
    {
     "data": {
      "text/plain": [
       "array([[8.000001],\n",
       "       [8.000001],\n",
       "       [8.000001],\n",
       "       [8.000001]], dtype=float32)"
      ]
     },
     "execution_count": 37,
     "metadata": {},
     "output_type": "execute_result"
    }
   ],
   "source": [
    "num_of_instances_per_appeared_class=tf.expand_dims(tf.cast(tf.reduce_sum(labels,axis=0),tf.float32)+1e-6,axis=1)\n",
    "num_of_instances_per_appeared_class.eval(session=tf.Session())"
   ]
  },
  {
   "cell_type": "code",
   "execution_count": 47,
   "metadata": {},
   "outputs": [
    {
     "ename": "TypeError",
     "evalue": "'Tensor' object is not callable",
     "output_type": "error",
     "traceback": [
      "\u001b[1;31m---------------------------------------------------------------------------\u001b[0m",
      "\u001b[1;31mTypeError\u001b[0m                                 Traceback (most recent call last)",
      "\u001b[1;32m<ipython-input-47-67fc2af8a9c1>\u001b[0m in \u001b[0;36m<module>\u001b[1;34m\u001b[0m\n\u001b[0;32m      1\u001b[0m \u001b[0mA\u001b[0m\u001b[1;33m=\u001b[0m\u001b[0mtf\u001b[0m\u001b[1;33m.\u001b[0m\u001b[0mcast\u001b[0m\u001b[1;33m(\u001b[0m\u001b[0mtf\u001b[0m\u001b[1;33m.\u001b[0m\u001b[0mreduce_sum\u001b[0m\u001b[1;33m(\u001b[0m\u001b[0mlabels\u001b[0m\u001b[1;33m,\u001b[0m\u001b[0maxis\u001b[0m\u001b[1;33m=\u001b[0m\u001b[1;36m0\u001b[0m\u001b[1;33m)\u001b[0m\u001b[1;33m,\u001b[0m\u001b[0mtf\u001b[0m\u001b[1;33m.\u001b[0m\u001b[0mfloat32\u001b[0m\u001b[1;33m)\u001b[0m\u001b[1;33m\u001b[0m\u001b[1;33m\u001b[0m\u001b[0m\n\u001b[1;32m----> 2\u001b[1;33m \u001b[0mA\u001b[0m\u001b[1;33m(\u001b[0m\u001b[0mtf\u001b[0m\u001b[1;33m.\u001b[0m\u001b[0mequal\u001b[0m\u001b[1;33m(\u001b[0m\u001b[0mA\u001b[0m\u001b[1;33m,\u001b[0m\u001b[1;36m0\u001b[0m\u001b[1;33m)\u001b[0m\u001b[1;33m)\u001b[0m\u001b[1;33m.\u001b[0m\u001b[0meval\u001b[0m\u001b[1;33m(\u001b[0m\u001b[0msession\u001b[0m\u001b[1;33m=\u001b[0m\u001b[0mtf\u001b[0m\u001b[1;33m.\u001b[0m\u001b[0mSession\u001b[0m\u001b[1;33m(\u001b[0m\u001b[1;33m)\u001b[0m\u001b[1;33m)\u001b[0m\u001b[1;33m\u001b[0m\u001b[1;33m\u001b[0m\u001b[0m\n\u001b[0m",
      "\u001b[1;31mTypeError\u001b[0m: 'Tensor' object is not callable"
     ]
    }
   ],
   "source": [
    "A=tf.cast(tf.reduce_sum(labels,axis=0),tf.float32)\n",
    "A(tf.equal(A,0)).eval(session=tf.Session())"
   ]
  },
  {
   "cell_type": "code",
   "execution_count": 59,
   "metadata": {},
   "outputs": [
    {
     "ename": "SyntaxError",
     "evalue": "unexpected EOF while parsing (<ipython-input-59-e5bbe3e21d64>, line 1)",
     "output_type": "error",
     "traceback": [
      "\u001b[1;36m  File \u001b[1;32m\"<ipython-input-59-e5bbe3e21d64>\"\u001b[1;36m, line \u001b[1;32m1\u001b[0m\n\u001b[1;33m    tf.where(tf.equal(A,0),A,tf.Constant(1e-6).eval(session=tf.Session())\u001b[0m\n\u001b[1;37m                                                                         ^\u001b[0m\n\u001b[1;31mSyntaxError\u001b[0m\u001b[1;31m:\u001b[0m unexpected EOF while parsing\n"
     ]
    }
   ],
   "source": [
    "tf.where(tf.equal(A,0),A,tf.Constant(1e-6).eval(session=tf.Session())"
   ]
  },
  {
   "cell_type": "code",
   "execution_count": 57,
   "metadata": {},
   "outputs": [
    {
     "data": {
      "text/plain": [
       "array([False, False, False, False])"
      ]
     },
     "execution_count": 57,
     "metadata": {},
     "output_type": "execute_result"
    }
   ],
   "source": [
    "tf.equal(A,0).eval(session=tf.Session())"
   ]
  },
  {
   "cell_type": "code",
   "execution_count": 64,
   "metadata": {},
   "outputs": [],
   "source": [
    "margin=1\n",
    "num_of_instances_per_appeared_class=tf.reduce_sum(labels,axis=0)\n",
    "num_of_instances_per_appeared_class=tf.where(tf.not_equal(num_of_instances_per_appeared_class,0),num_of_instances_per_appeared_class,tf.ones(num_of_instances_per_appeared_class.shape)*1e-6)\n",
    "num_of_instances_per_appeared_class=tf.expand_dims(tf.reduce_sum(labels,axis=0),axis=1)\n",
    "appeared_labels=tf.cast(labels,tf.float32)\n",
    "sum_of_embeddings_per_appeared_class=tf.transpose(tf.matmul(tf.transpose(embeddings),appeared_labels))#num_of_appeared_class*num_feature\n",
    "mean_embedding_per_appeared_class=sum_of_embeddings_per_appeared_class/num_of_instances_per_appeared_class\n",
    "\n",
    "square_diff_per_instance=tf.square(embeddings-tf.gather(mean_embedding_per_appeared_class,tf.argmax(appeared_labels,axis=1)))\n",
    "sum_of_square_diff_per_appeared_class=tf.reduce_sum(tf.transpose(tf.matmul(tf.transpose(square_diff_per_instance),appeared_labels)),axis=1)\n",
    "sum_of_square_diff_per_appeared_class=tf.expand_dims(sum_of_square_diff_per_appeared_class,axis=1)\n",
    "var_of_embeddings_per_appeared_class=sum_of_square_diff_per_appeared_class/num_of_instances_per_appeared_class\n",
    "\n",
    "inter_loss_matrix=pairwise_distance(mean_embedding_per_appeared_class, squared=True)\n",
    "intra_loss_matrix=var_of_embeddings_per_appeared_class+tf.transpose(var_of_embeddings_per_appeared_class)\n",
    "\n",
    "loss_matrix=tf.maximum(intra_loss_matrix-inter_loss_matrix+margin,0)\n",
    "loss_matrix=loss_matrix-loss_matrix*tf.diag(tf.ones([tf.shape(loss_matrix)[0]]))\n",
    "\n",
    "fisher_loss=tf.reduce_max(loss_matrix)"
   ]
  },
  {
   "cell_type": "code",
   "execution_count": 87,
   "metadata": {},
   "outputs": [
    {
     "data": {
      "text/plain": [
       "array([[1.5680118, 1.4967222, 1.223318 , 1.2863318],\n",
       "       [1.4967222, 1.4479961, 1.219458 , 1.2751089],\n",
       "       [1.223318 , 1.219458 , 1.2980132, 1.3224764],\n",
       "       [1.2863318, 1.2751089, 1.3224764, 1.3511205]], dtype=float32)"
      ]
     },
     "execution_count": 87,
     "metadata": {},
     "output_type": "execute_result"
    }
   ],
   "source": [
    "tf.maximum(intra_loss_matrix-inter_loss_matrix+margin,0).eval(session=tf.Session())"
   ]
  },
  {
   "cell_type": "code",
   "execution_count": 88,
   "metadata": {
    "scrolled": true
   },
   "outputs": [
    {
     "data": {
      "text/plain": [
       "array([[0.       , 1.4967222, 1.223318 , 1.2863318],\n",
       "       [1.4967222, 0.       , 1.219458 , 1.2751089],\n",
       "       [1.223318 , 1.219458 , 0.       , 1.3224764],\n",
       "       [1.2863318, 1.2751089, 1.3224764, 0.       ]], dtype=float32)"
      ]
     },
     "execution_count": 88,
     "metadata": {},
     "output_type": "execute_result"
    }
   ],
   "source": [
    "loss_matrix.eval(session=tf.Session())"
   ]
  },
  {
   "cell_type": "code",
   "execution_count": 73,
   "metadata": {},
   "outputs": [
    {
     "data": {
      "text/plain": [
       "array([0, 1, 2, 3, 0, 1, 2, 3, 0, 1, 2, 3, 0, 1, 2, 3, 0, 1, 2, 3, 0, 1,\n",
       "       2, 3, 0, 1, 2, 3, 0, 1, 2, 3], dtype=int64)"
      ]
     },
     "execution_count": 73,
     "metadata": {},
     "output_type": "execute_result"
    }
   ],
   "source": [
    "tf.argmax(appeared_labels,axis=1).eval(session=tf.Session())"
   ]
  },
  {
   "cell_type": "code",
   "execution_count": 76,
   "metadata": {},
   "outputs": [
    {
     "data": {
      "text/plain": [
       "TensorShape([Dimension(32), Dimension(3)])"
      ]
     },
     "execution_count": 76,
     "metadata": {},
     "output_type": "execute_result"
    }
   ],
   "source": [
    "tf.gather(mean_embedding_per_appeared_class,tf.argmax(appeared_labels,axis=1)).shape"
   ]
  }
 ],
 "metadata": {
  "kernelspec": {
   "display_name": "Python 3",
   "language": "python",
   "name": "python3"
  },
  "language_info": {
   "codemirror_mode": {
    "name": "ipython",
    "version": 3
   },
   "file_extension": ".py",
   "mimetype": "text/x-python",
   "name": "python",
   "nbconvert_exporter": "python",
   "pygments_lexer": "ipython3",
   "version": "3.6.8"
  }
 },
 "nbformat": 4,
 "nbformat_minor": 2
}
